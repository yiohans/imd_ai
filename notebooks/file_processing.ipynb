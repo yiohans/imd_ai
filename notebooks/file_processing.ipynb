{
 "cells": [
  {
   "cell_type": "code",
   "execution_count": null,
   "metadata": {},
   "outputs": [
    {
     "data": {
      "text/plain": [
       "'/opt/academics/imd_ai/processes/SEI_00166_2025.pdf'"
      ]
     },
     "execution_count": 1,
     "metadata": {},
     "output_type": "execute_result"
    }
   ],
   "source": [
    "import os\n",
    "my_path  = os.path.abspath('')\n",
    "root_path = os.path.dirname(my_path)\n",
    "processes_path = os.path.join(root_path, 'processes')\n",
    "processes_path"
   ]
  },
  {
   "cell_type": "code",
   "execution_count": null,
   "metadata": {},
   "outputs": [
    {
     "name": "stderr",
     "output_type": "stream",
     "text": [
      "/opt/bi/teste/playwright-venv/lib/python3.12/site-packages/tqdm/auto.py:21: TqdmWarning: IProgress not found. Please update jupyter and ipywidgets. See https://ipywidgets.readthedocs.io/en/stable/user_install.html\n",
      "  from .autonotebook import tqdm as notebook_tqdm\n",
      "2025-02-24 13:43:28.471581: I external/local_xla/xla/tsl/cuda/cudart_stub.cc:32] Could not find cuda drivers on your machine, GPU will not be used.\n",
      "2025-02-24 13:43:28.484360: I external/local_xla/xla/tsl/cuda/cudart_stub.cc:32] Could not find cuda drivers on your machine, GPU will not be used.\n",
      "2025-02-24 13:43:28.496133: E external/local_xla/xla/stream_executor/cuda/cuda_fft.cc:477] Unable to register cuFFT factory: Attempting to register factory for plugin cuFFT when one has already been registered\n",
      "WARNING: All log messages before absl::InitializeLog() is called are written to STDERR\n",
      "E0000 00:00:1740415408.518604 3567789 cuda_dnn.cc:8310] Unable to register cuDNN factory: Attempting to register factory for plugin cuDNN when one has already been registered\n",
      "E0000 00:00:1740415408.525408 3567789 cuda_blas.cc:1418] Unable to register cuBLAS factory: Attempting to register factory for plugin cuBLAS when one has already been registered\n",
      "2025-02-24 13:43:28.557043: I tensorflow/core/platform/cpu_feature_guard.cc:210] This TensorFlow binary is optimized to use available CPU instructions in performance-critical operations.\n",
      "To enable the following instructions: AVX2 FMA, in other operations, rebuild TensorFlow with the appropriate compiler flags.\n",
      "Fetching 11 files: 100%|██████████| 11/11 [00:00<00:00, 13058.97it/s]\n",
      "Fetching 11 files: 100%|██████████| 11/11 [00:00<00:00, 7748.97it/s]\n",
      "Fetching 4 files: 100%|██████████| 4/4 [00:00<00:00, 1750.91it/s]\n",
      "Fetching 12 files: 100%|██████████| 12/12 [00:00<00:00, 3534.77it/s]\n",
      "Fetching 38 files: 100%|██████████| 38/38 [00:21<00:00,  1.78it/s]\n",
      "100%|██████████| 73.7M/73.7M [00:15<00:00, 4.84MB/s]\n",
      "100%|██████████| 13.4M/13.4M [00:03<00:00, 4.64MB/s]\n",
      "100%|██████████| 13.6M/13.6M [00:03<00:00, 4.74MB/s]\n"
     ]
    },
    {
     "data": {
      "text/plain": [
       "PosixPath('/opt/academics/imd_ai/models')"
      ]
     },
     "execution_count": 2,
     "metadata": {},
     "output_type": "execute_result"
    }
   ],
   "source": [
    "import os\n",
    "from pathlib import Path\n",
    "from docling.utils.model_downloader import download_models\n",
    "\n",
    "models_path = os.path.join(root_path, 'models')\n",
    "models_path = Path(models_path)\n",
    "download_models(models_path, progress=True)"
   ]
  },
  {
   "cell_type": "code",
   "execution_count": 8,
   "metadata": {},
   "outputs": [],
   "source": [
    "import os, json\n",
    "from docling.datamodel.base_models import InputFormat\n",
    "from docling.datamodel.pipeline_options import PdfPipelineOptions\n",
    "from docling.document_converter import DocumentConverter, PdfFormatOption\n",
    "\n",
    "models_path = os.path.join(root_path, 'models')\n",
    "\n",
    "pipeline_options = PdfPipelineOptions(artifacts_path=models_path)\n",
    "converter = DocumentConverter(\n",
    "    format_options={\n",
    "        InputFormat.PDF: PdfFormatOption(pipeline_options=pipeline_options)\n",
    "    }\n",
    ")\n",
    "\n",
    "for file in os.listdir(processes_path):\n",
    "    if file.endswith('.pdf'):\n",
    "        file_path = os.path.join(processes_path, file)\n",
    "        result = converter.convert(file_path)\n",
    "        json_file = result.document.export_to_dict()\n",
    "        with open(file_path.replace('.pdf', '.json'), 'w') as f:\n",
    "            json.dump(json_file, f, indent=4)"
   ]
  }
 ],
 "metadata": {
  "kernelspec": {
   "display_name": "playwright-venv",
   "language": "python",
   "name": "python3"
  },
  "language_info": {
   "codemirror_mode": {
    "name": "ipython",
    "version": 3
   },
   "file_extension": ".py",
   "mimetype": "text/x-python",
   "name": "python",
   "nbconvert_exporter": "python",
   "pygments_lexer": "ipython3",
   "version": "3.12.3"
  }
 },
 "nbformat": 4,
 "nbformat_minor": 2
}
