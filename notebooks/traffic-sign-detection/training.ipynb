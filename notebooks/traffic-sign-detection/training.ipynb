{
  "cells": [
    {
      "cell_type": "code",
      "execution_count": null,
      "metadata": {
        "colab": {
          "base_uri": "https://localhost:8080/"
        },
        "collapsed": true,
        "id": "CS_e8sak9vNO",
        "outputId": "0f68dc2f-7cf3-4471-e1b8-4180f2337d9a"
      },
      "outputs": [],
      "source": [
        "%pip install -q ultralytics requests ipykernel pytube"
      ]
    },
    {
      "cell_type": "markdown",
      "metadata": {
        "id": "W-WybCt_9rU8"
      },
      "source": [
        "### Imports"
      ]
    },
    {
      "cell_type": "code",
      "execution_count": null,
      "metadata": {
        "colab": {
          "base_uri": "https://localhost:8080/"
        },
        "id": "3diU2xJw9rU9",
        "outputId": "58089bf2-6fec-4158-b5c4-711911776b87"
      },
      "outputs": [],
      "source": [
        "import ultralytics as ul\n",
        "import requests\n",
        "import zipfile\n",
        "import os, glob, random, shutil\n",
        "from IPython.display import Image, Video"
      ]
    },
    {
      "cell_type": "code",
      "execution_count": null,
      "metadata": {
        "colab": {
          "base_uri": "https://localhost:8080/"
        },
        "id": "VdPA201BXUPh",
        "outputId": "088c274f-ed49-4ea9-931c-625986c9916a"
      },
      "outputs": [],
      "source": [
        "from ultralytics import settings\n",
        "\n",
        "current_dir = os.getcwd()\n",
        "\n",
        "settings.update(\n",
        "    {\n",
        "        'runs_dir' : os.path.join(current_dir, \"runs\"),\n",
        "        'weights_dir' : os.path.join(current_dir, \"weights\"),\n",
        "    }\n",
        ")\n",
        "\n",
        "print(settings)\n"
      ]
    },
    {
      "cell_type": "markdown",
      "metadata": {
        "id": "YFyb5gCB9rU-"
      },
      "source": [
        "### Dataset"
      ]
    },
    {
      "cell_type": "code",
      "execution_count": null,
      "metadata": {
        "colab": {
          "base_uri": "https://localhost:8080/"
        },
        "id": "Ao_d7hDY9rU-",
        "outputId": "d87236eb-dba5-49cc-c60c-7d18de057f03"
      },
      "outputs": [],
      "source": [
        "# Define dataset URL and local file name\n",
        "url = \"https://www.kaggle.com/api/v1/datasets/download/valentynsichkar/traffic-signs-dataset-in-yolo-format\"\n",
        "zip_path = \"traffic-signs-dataset.zip\"\n",
        "extract_folder = \"traffic-signs-dataset-original\"\n",
        "\n",
        "# Download the dataset\n",
        "response = requests.get(url, stream=True)\n",
        "total_size = int(response.headers.get('content-length', 0))\n",
        "downloaded_size = 0\n",
        "\n",
        "if not os.path.exists(extract_folder):\n",
        "    with open(zip_path, \"wb\") as file:\n",
        "        for chunk in response.iter_content(chunk_size=1024*1024):\n",
        "            if chunk:\n",
        "                file.write(chunk)\n",
        "                downloaded_size += len(chunk)\n",
        "                percentage = (downloaded_size / total_size) * 100\n",
        "                print(f\"Download progress: {percentage:.2f}%\")\n",
        "\n",
        "    # Extract the dataset\n",
        "    with zipfile.ZipFile(zip_path, \"r\") as zip_ref:\n",
        "        zip_ref.extractall(extract_folder)\n",
        "\n",
        "    # Remove the zip file\n",
        "    os.remove(zip_path)\n",
        "\n",
        "    print(\"Download and extraction completed.\")\n",
        "\n",
        "    with open(os.path.join(extract_folder, \".gitignore\"), \"w\") as file:\n",
        "        file.write(\"*\")\n",
        "\n",
        "else:\n",
        "    print(\"Dataset already downloaded.\")\n"
      ]
    },
    {
      "cell_type": "code",
      "execution_count": null,
      "metadata": {
        "colab": {
          "base_uri": "https://localhost:8080/"
        },
        "id": "n2Oi8Q679rU-",
        "outputId": "7897191b-796a-4c86-f0c8-5bf010227793"
      },
      "outputs": [],
      "source": [
        "image_files = glob.glob(f\"{extract_folder}/ts/**/*.jpg\", recursive=True)\n",
        "\n",
        "print(f\"Total number of images: {len(image_files)}\")"
      ]
    },
    {
      "cell_type": "markdown",
      "metadata": {},
      "source": [
        "#### Instance examples"
      ]
    },
    {
      "cell_type": "code",
      "execution_count": null,
      "metadata": {},
      "outputs": [],
      "source": [
        "Image(filename=random.choice(image_files), width=600)"
      ]
    },
    {
      "cell_type": "code",
      "execution_count": null,
      "metadata": {},
      "outputs": [],
      "source": [
        "Image(filename=random.choice(image_files), width=600)"
      ]
    },
    {
      "cell_type": "markdown",
      "metadata": {},
      "source": [
        "#### Test video"
      ]
    },
    {
      "cell_type": "code",
      "execution_count": null,
      "metadata": {},
      "outputs": [],
      "source": [
        "Video('traffic-signs-dataset-original/traffic-sign-to-test.mp4', width=600)"
      ]
    },
    {
      "cell_type": "markdown",
      "metadata": {},
      "source": [
        "#### Train-test split"
      ]
    },
    {
      "cell_type": "code",
      "execution_count": null,
      "metadata": {
        "id": "F6HLX45D9rU_"
      },
      "outputs": [],
      "source": [
        "dataset_folder = \"../../datasets/traffic-signs-dataset\"\n",
        "train_size = 0.8\n",
        "\n",
        "train_folder = os.path.join(dataset_folder, \"train\")\n",
        "test_folder = os.path.join(dataset_folder, \"test\")\n",
        "\n",
        "train = random.sample(image_files, int(len(image_files) * train_size))\n",
        "test = list(set(image_files) - set(train))\n",
        "\n",
        "os.makedirs(os.path.join(train_folder, \"images\"), exist_ok=True)\n",
        "os.makedirs(os.path.join(train_folder, \"labels\"), exist_ok=True)\n",
        "\n",
        "for file in train:\n",
        "    label_file = file.replace(\".jpg\", \".txt\")\n",
        "    shutil.copy(file, os.path.join(train_folder, 'images', file.split(\"/\")[-1]))\n",
        "    shutil.copy(label_file, os.path.join(train_folder, 'labels', label_file.split(\"/\")[-1]))\n",
        "\n",
        "\n",
        "os.makedirs(os.path.join(test_folder, \"images\"), exist_ok=True)\n",
        "os.makedirs(os.path.join(test_folder, \"labels\"), exist_ok=True)\n",
        "for file in test:\n",
        "    label_file = file.replace(\".jpg\", \".txt\")\n",
        "    shutil.copy(file, os.path.join(test_folder, 'images', file.split(\"/\")[-1]))\n",
        "    shutil.copy(label_file, os.path.join(test_folder, 'labels', label_file.split(\"/\")[-1]))"
      ]
    },
    {
      "cell_type": "code",
      "execution_count": null,
      "metadata": {
        "id": "ER0zbWuR9rU_"
      },
      "outputs": [],
      "source": [
        "with open(os.path.join(dataset_folder, \"dataset.yaml\"), 'w') as file:\n",
        "    file.write(f\"train: train\\n\")\n",
        "    file.write(f\"val: test\\n\")\n",
        "    with open(os.path.join(extract_folder, \"classes.names\"), 'r') as classes_file:\n",
        "        classes = classes_file.readlines()\n",
        "        file.write(f\"nc: {len(classes)}\\n\")\n",
        "        file.write(f\"names:\\n\")\n",
        "        for class_name in classes:\n",
        "            file.write(f\"  - {class_name}\")\n",
        "\n",
        "with open(os.path.join(dataset_folder, \".gitignore\"), 'w') as file:\n",
        "    file.write(\"*\")"
      ]
    },
    {
      "cell_type": "code",
      "execution_count": null,
      "metadata": {
        "id": "PvwmZy7b9rU_"
      },
      "outputs": [],
      "source": [
        "dataset_yaml_path = f\"{os.path.abspath(dataset_folder)}/dataset.yaml\""
      ]
    },
    {
      "cell_type": "markdown",
      "metadata": {
        "id": "r2U40mEl9rVA"
      },
      "source": [
        "### Pre-trained model"
      ]
    },
    {
      "cell_type": "code",
      "execution_count": null,
      "metadata": {
        "colab": {
          "base_uri": "https://localhost:8080/"
        },
        "id": "c3vydzou9rVA",
        "outputId": "4907971f-ff33-4f56-c2e8-298be6cbfae4"
      },
      "outputs": [],
      "source": [
        "model = ul.YOLO(\"yolo11n.pt\")"
      ]
    },
    {
      "cell_type": "markdown",
      "metadata": {
        "id": "TzmmEQz19rVA"
      },
      "source": [
        "#### Initial tests"
      ]
    },
    {
      "cell_type": "code",
      "execution_count": null,
      "metadata": {
        "colab": {
          "base_uri": "https://localhost:8080/"
        },
        "collapsed": true,
        "id": "Hj537HaZ9rVA",
        "outputId": "02416f18-33b8-4ab2-e426-72f5a143b8a4"
      },
      "outputs": [],
      "source": [
        "results = model.track(\n",
        "    'traffic-signs-dataset-original/traffic-sign-to-test.mp4',\n",
        "    save=True, save_txt=True, save_conf=True, stream=True,\n",
        "    )\n",
        "\n",
        "for _ in results:\n",
        "    pass\n"
      ]
    },
    {
      "cell_type": "markdown",
      "metadata": {
        "id": "tEPTk0bx9rVA"
      },
      "source": [
        "### Model fine-tunning"
      ]
    },
    {
      "cell_type": "code",
      "execution_count": null,
      "metadata": {
        "colab": {
          "base_uri": "https://localhost:8080/"
        },
        "collapsed": true,
        "id": "QfSrOo0J9rVB",
        "outputId": "6a16991c-5832-4dfe-a537-91e765a368a1"
      },
      "outputs": [],
      "source": [
        "dataset_yaml_path = f\"{os.path.abspath(dataset_folder)}/dataset.yaml\"\n",
        "print(dataset_yaml_path)\n",
        "results = model.train(data=dataset_yaml_path, epochs=100, batch=-1, patience=5)"
      ]
    },
    {
      "cell_type": "code",
      "execution_count": null,
      "metadata": {
        "colab": {
          "base_uri": "https://localhost:8080/",
          "height": 35
        },
        "id": "Cw3gfs0jXUPl",
        "outputId": "dce6a14c-8902-4210-a262-8aa033a2603e"
      },
      "outputs": [],
      "source": [
        "shutil.copy(f'{os.path.abspath(results.save_dir)}/weights/best.pt', 'finetuned.pt')"
      ]
    },
    {
      "cell_type": "markdown",
      "metadata": {
        "id": "7Hrc_DlJXUPl"
      },
      "source": [
        "### Fine-tunned model test"
      ]
    },
    {
      "cell_type": "code",
      "execution_count": null,
      "metadata": {
        "colab": {
          "base_uri": "https://localhost:8080/"
        },
        "collapsed": true,
        "id": "-QIDsl469rVB",
        "outputId": "630d6c65-9b55-4987-d2e2-f26a1163e9dc"
      },
      "outputs": [],
      "source": [
        "finetuned = ul.YOLO(\"finetuned.pt\")\n",
        "\n",
        "results = finetuned.track(\n",
        "    'traffic-signs-dataset-original/traffic-sign-to-test.mp4',\n",
        "    save=True, save_txt=True, save_conf=True, stream=True,\n",
        "    )\n",
        "\n",
        "for _ in results:\n",
        "    pass"
      ]
    },
    {
      "cell_type": "code",
      "execution_count": null,
      "metadata": {},
      "outputs": [],
      "source": [
        "results = finetuned.track(\n",
        "    'https://www.youtube.com/watch?v=t4bkB2Xix2c',\n",
        "    save=True, save_txt=True, save_conf=True, stream=True,\n",
        "    )\n",
        "\n",
        "for _ in results:\n",
        "    pass"
      ]
    },
    {
      "cell_type": "code",
      "execution_count": null,
      "metadata": {
        "colab": {
          "base_uri": "https://localhost:8080/"
        },
        "id": "kE5FN163XUPl",
        "outputId": "f0b3cdec-c6d3-4903-ad6c-ecd13f248644"
      },
      "outputs": [],
      "source": [
        "results = finetuned.track(\n",
        "    'https://www.youtube.com/watch?v=5wvDzLpQH4s',\n",
        "    save=True, save_txt=True, save_conf=True, stream=True,\n",
        "    )\n",
        "\n",
        "for _ in results:\n",
        "    pass"
      ]
    },
    {
      "cell_type": "code",
      "execution_count": null,
      "metadata": {
        "id": "ZWEY4HuLMrjl"
      },
      "outputs": [],
      "source": [
        "# with zipfile.ZipFile(\"runs.zip\", \"w\", zipfile.ZIP_DEFLATED) as zipf:\n",
        "#     for root, dirs, files in os.walk(\"runs\"):\n",
        "#         for file in files:\n",
        "#             zipf.write(os.path.join(root, file))"
      ]
    }
  ],
  "metadata": {
    "accelerator": "GPU",
    "colab": {
      "gpuType": "T4",
      "provenance": []
    },
    "kernelspec": {
      "display_name": ".venv",
      "language": "python",
      "name": "python3"
    },
    "language_info": {
      "codemirror_mode": {
        "name": "ipython",
        "version": 3
      },
      "file_extension": ".py",
      "mimetype": "text/x-python",
      "name": "python",
      "nbconvert_exporter": "python",
      "pygments_lexer": "ipython3",
      "version": "3.12.3"
    }
  },
  "nbformat": 4,
  "nbformat_minor": 0
}
