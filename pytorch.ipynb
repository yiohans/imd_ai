{
 "cells": [
  {
   "cell_type": "markdown",
   "metadata": {},
   "source": [
    "### Imports"
   ]
  },
  {
   "cell_type": "code",
   "execution_count": 1,
   "metadata": {},
   "outputs": [],
   "source": [
    "import lightning as L\n",
    "import torch"
   ]
  },
  {
   "cell_type": "code",
   "execution_count": 4,
   "metadata": {},
   "outputs": [],
   "source": [
    "class SimpleCNN(L.LightningModule):\n",
    "    def __init__(self, num_classes: int = 2 ):\n",
    "        \"\"\"\n",
    "        Initialize the SimpleCNN model\n",
    "\n",
    "        Args:\n",
    "            num_classes (int, optional): Number of classes in the dataset. Defaults to 2.\n",
    "        \"\"\"\n",
    "        super().__init__()\n",
    "        self.conv1 = torch.nn.Conv2d(\n",
    "            3,\n",
    "            16,\n",
    "            kernel_size=3,\n",
    "            stride=1,\n",
    "            padding=1\n",
    "        )\n",
    "        self.conv2 = torch.nn.Conv2d(\n",
    "            16,\n",
    "            32,\n",
    "            kernel_size=3,\n",
    "            stride=1,\n",
    "            padding=1\n",
    "        )\n",
    "        self.conv3 = torch.nn.Conv2d(\n",
    "            32,\n",
    "            64,\n",
    "            kernel_size=3,\n",
    "            stride=1,\n",
    "            padding=1\n",
    "        )\n",
    "        self.pool = torch.nn.MaxPool2d(kernel_size=2, stride=2, padding=0)\n",
    "        \n",
    "        self.fc1 = torch.nn.Linear(64 * 4 * 4, 500)\n",
    "        self.fc2 = torch.nn.Linear(500, num_classes)\n",
    "        \n",
    "        self.sequential = torch.nn.Sequential(\n",
    "            self.conv1,\n",
    "            torch.nn.ReLU(),\n",
    "            self.pool,\n",
    "            self.conv2,\n",
    "            torch.nn.ReLU(),\n",
    "            self.pool,\n",
    "            self.conv3,\n",
    "            torch.nn.ReLU(),\n",
    "            self.pool,\n",
    "            torch.nn.Flatten(),\n",
    "            self.fc1,\n",
    "            torch.nn.ReLU(),\n",
    "            self.fc2\n",
    "        )"
   ]
  }
 ],
 "metadata": {
  "kernelspec": {
   "display_name": ".venv",
   "language": "python",
   "name": "python3"
  },
  "language_info": {
   "codemirror_mode": {
    "name": "ipython",
    "version": 3
   },
   "file_extension": ".py",
   "mimetype": "text/x-python",
   "name": "python",
   "nbconvert_exporter": "python",
   "pygments_lexer": "ipython3",
   "version": "3.12.3"
  }
 },
 "nbformat": 4,
 "nbformat_minor": 2
}
